{
 "cells": [
  {
   "cell_type": "code",
   "execution_count": 1,
   "id": "96ce71b7",
   "metadata": {},
   "outputs": [
    {
     "name": "stdout",
     "output_type": "stream",
     "text": [
      "Mon Nov 28 18:21:39 2022       \r\n",
      "+-----------------------------------------------------------------------------+\r\n",
      "| NVIDIA-SMI 470.57.02    Driver Version: 470.57.02    CUDA Version: 11.4     |\r\n",
      "|-------------------------------+----------------------+----------------------+\r\n",
      "| GPU  Name        Persistence-M| Bus-Id        Disp.A | Volatile Uncorr. ECC |\r\n",
      "| Fan  Temp  Perf  Pwr:Usage/Cap|         Memory-Usage | GPU-Util  Compute M. |\r\n",
      "|                               |                      |               MIG M. |\r\n",
      "|===============================+======================+======================|\r\n",
      "|   0  NVIDIA GeForce ...  Off  | 00000000:81:00.0 Off |                  N/A |\r\n",
      "| 35%   28C    P0    50W / 250W |      0MiB / 11019MiB |      0%      Default |\r\n",
      "|                               |                      |                  N/A |\r\n",
      "+-------------------------------+----------------------+----------------------+\r\n",
      "                                                                               \r\n",
      "+-----------------------------------------------------------------------------+\r\n",
      "| Processes:                                                                  |\r\n",
      "|  GPU   GI   CI        PID   Type   Process name                  GPU Memory |\r\n",
      "|        ID   ID                                                   Usage      |\r\n",
      "|=============================================================================|\r\n",
      "|  No running processes found                                                 |\r\n",
      "+-----------------------------------------------------------------------------+\r\n"
     ]
    }
   ],
   "source": [
    "! nvidia-smi"
   ]
  },
  {
   "cell_type": "markdown",
   "id": "99b7427b",
   "metadata": {},
   "source": [
    "# imports"
   ]
  },
  {
   "cell_type": "code",
   "execution_count": 2,
   "id": "d32d59d5",
   "metadata": {},
   "outputs": [],
   "source": [
    "# import necessary dependencies\n",
    "import argparse\n",
    "import os, sys\n",
    "import time\n",
    "import datetime\n",
    "from tqdm import tqdm_notebook as tqdm\n",
    "\n",
    "import os\n",
    "import torch\n",
    "import torch.nn as nn\n",
    "import pandas as pd\n",
    "from skimage import io, transform\n",
    "import numpy as np\n",
    "import matplotlib.pyplot as plt\n",
    "from torch.utils.data import Dataset, DataLoader\n",
    "from torchvision import transforms, utils\n",
    "import torchvision\n",
    "\n",
    "# Ignore warnings\n",
    "import warnings\n",
    "warnings.filterwarnings(\"ignore\")"
   ]
  },
  {
   "cell_type": "code",
   "execution_count": 3,
   "id": "dec6aabb",
   "metadata": {},
   "outputs": [
    {
     "data": {
      "text/plain": [
       "<torch._C.Generator at 0x7f76e9c1b150>"
      ]
     },
     "execution_count": 3,
     "metadata": {},
     "output_type": "execute_result"
    }
   ],
   "source": [
    "import random\n",
    "random.seed(0)\n",
    "np.random.seed(0)\n",
    "torch.manual_seed(0)"
   ]
  },
  {
   "cell_type": "code",
   "execution_count": 32,
   "id": "c82b4e78",
   "metadata": {},
   "outputs": [],
   "source": [
    "BATCH_SIZE = 128\n",
    "EPOCHS = 100\n",
    "LR = 1e-4"
   ]
  },
  {
   "cell_type": "markdown",
   "id": "88ea456f",
   "metadata": {},
   "source": [
    "# model"
   ]
  },
  {
   "cell_type": "code",
   "execution_count": 34,
   "id": "a7c87a28",
   "metadata": {},
   "outputs": [],
   "source": [
    "class ResNet_Block(nn.Module):\n",
    "    def __init__(self, in_chs, out_chs, strides):\n",
    "        super(ResNet_Block, self).__init__()\n",
    "        self.conv1 = nn.Sequential(\n",
    "            nn.Conv2d(in_channels=in_chs, out_channels=out_chs,\n",
    "                      stride=strides, padding=1, kernel_size=3, bias=False),\n",
    "            nn.BatchNorm2d(out_chs),\n",
    "            nn.ReLU(True)\n",
    "        )\n",
    "        self.conv2 = nn.Sequential(\n",
    "            nn.Conv2d(in_channels=out_chs, out_channels=out_chs,\n",
    "                      stride=1, padding=1, kernel_size=3, bias=False),\n",
    "            nn.BatchNorm2d(out_chs)\n",
    "        )\n",
    "\n",
    "        if in_chs != out_chs:\n",
    "            self.id_mapping = nn.Sequential(\n",
    "                nn.Conv2d(in_channels=in_chs, out_channels=out_chs,\n",
    "                          stride=strides, padding=0, kernel_size=1, bias=False),\n",
    "                nn.BatchNorm2d(out_chs))\n",
    "        else:\n",
    "            self.id_mapping = None\n",
    "        self.final_activation = nn.ReLU(True)\n",
    "\n",
    "    def forward(self, x):\n",
    "        out = self.conv1(x)\n",
    "        out = self.conv2(out)\n",
    "        if self.id_mapping is not None:\n",
    "            x_ = self.id_mapping(x)\n",
    "        else:\n",
    "            x_ = x\n",
    "        return self.final_activation(x_ + out)\n",
    "\n",
    "class ResNet20Encoder(nn.Module):\n",
    "    def __init__(self, num_layers=20, num_stem_conv=16, config=(16, 32, 64)):\n",
    "        super(ResNet20Encoder, self).__init__()\n",
    "        self.num_layers = num_layers\n",
    "        self.head_conv = nn.Sequential(\n",
    "            nn.Conv2d(in_channels=3, out_channels=num_stem_conv,\n",
    "                      stride=1, padding=1, kernel_size=3, bias=False),\n",
    "            nn.BatchNorm2d(num_stem_conv),\n",
    "            nn.ReLU(True)\n",
    "        )\n",
    "        num_layers_per_stage = (num_layers - 2) // 6\n",
    "        self.body_op = []\n",
    "        num_inputs = num_stem_conv\n",
    "        for i in range(len(config)):\n",
    "            for j in range(num_layers_per_stage):\n",
    "                if j == 0 and i != 0:\n",
    "                    strides = 2\n",
    "                else:\n",
    "                    strides = 1\n",
    "                self.body_op.append(ResNet_Block(num_inputs, config[i], strides))\n",
    "                num_inputs = config[i]\n",
    "        self.body_op = nn.Sequential(*self.body_op)\n",
    "        self.avg_pool = nn.AdaptiveAvgPool2d(1)\n",
    "        self.final_fc = nn.Linear(config[-1], 10)\n",
    "\n",
    "    def forward(self, x):\n",
    "        out = self.head_conv(x)\n",
    "        out = self.body_op(out)\n",
    "        features = self.avg_pool(out)\n",
    "        return features\n",
    "\n",
    "    \n",
    "class RotNet(nn.Module):\n",
    "    def __init__(self, num_layers=20, num_stem_conv=16, config=(16, 32, 64), projection_dim=20):\n",
    "        super(RotNet, self).__init__()\n",
    "        self.encoder = ResNet20Encoder(num_layers=num_layers, num_stem_conv=num_stem_conv, config=config)\n",
    "        self.linear1 = nn.Linear(config[-1], 4, bias=False)\n",
    "        \n",
    "    def forward(self, x):\n",
    "        out = self.encoder(x).squeeze()\n",
    "        out = self.linear1(out)\n",
    "        \n",
    "        return out"
   ]
  },
  {
   "cell_type": "markdown",
   "id": "4dc54814",
   "metadata": {},
   "source": [
    "# dataset"
   ]
  },
  {
   "cell_type": "code",
   "execution_count": 17,
   "id": "7395187c",
   "metadata": {},
   "outputs": [],
   "source": [
    "class CIFAR10Rot(Dataset):\n",
    "\n",
    "    def __init__(self, base_dataset):\n",
    "\n",
    "        self.base_dataset = base_dataset\n",
    "        self.transformed = self.rot()\n",
    "        \n",
    "    def rot(self):\n",
    "        roted_x = []\n",
    "        roted_y = []\n",
    "        for img, _ in tqdm(self.base_dataset):\n",
    "            for idx, angle in enumerate([0, 90, 180, 270]):\n",
    "                rot_im = torchvision.transforms.functional.rotate(img, angle)\n",
    "                rot_label = idx\n",
    "        \n",
    "                roted_x.append(rot_im)\n",
    "                roted_y.append(rot_label)\n",
    "            \n",
    "        return roted_x, roted_y\n",
    "        \n",
    "    \n",
    "    def __len__(self):\n",
    "        return len(self.base_dataset) * 4\n",
    "\n",
    "    def __getitem__(self, idx):\n",
    "        return self.transformed[0][idx], self.transformed[1][idx]"
   ]
  },
  {
   "cell_type": "code",
   "execution_count": 41,
   "id": "3e98d324",
   "metadata": {},
   "outputs": [
    {
     "name": "stdout",
     "output_type": "stream",
     "text": [
      "Files already downloaded and verified\n"
     ]
    },
    {
     "data": {
      "application/vnd.jupyter.widget-view+json": {
       "model_id": "485f07d4e6494b1d874f343e4e5b0fd8",
       "version_major": 2,
       "version_minor": 0
      },
      "text/plain": [
       "  0%|          | 0/40000 [00:00<?, ?it/s]"
      ]
     },
     "metadata": {},
     "output_type": "display_data"
    },
    {
     "data": {
      "application/vnd.jupyter.widget-view+json": {
       "model_id": "89d1ac71b54b4c7db495b3d69dafe179",
       "version_major": 2,
       "version_minor": 0
      },
      "text/plain": [
       "  0%|          | 0/10000 [00:00<?, ?it/s]"
      ]
     },
     "metadata": {},
     "output_type": "display_data"
    },
    {
     "name": "stdout",
     "output_type": "stream",
     "text": [
      "Files already downloaded and verified\n"
     ]
    },
    {
     "data": {
      "application/vnd.jupyter.widget-view+json": {
       "model_id": "f66d5e82a1c94cafb9d7d4c76974ea0f",
       "version_major": 2,
       "version_minor": 0
      },
      "text/plain": [
       "  0%|          | 0/10000 [00:00<?, ?it/s]"
      ]
     },
     "metadata": {},
     "output_type": "display_data"
    }
   ],
   "source": [
    "train_transform = transforms.Compose(\n",
    "    [transforms.Resize(size=(32, 32)),\n",
    "    transforms.ToTensor()]\n",
    ")\n",
    "test_transform = transforms.Compose(\n",
    "    [transforms.Resize(size=(32, 32)),\n",
    "    transforms.ToTensor()]\n",
    ")\n",
    "trainset = torchvision.datasets.CIFAR10(root='./data', train=True, download=True, transform=train_transform)\n",
    "trainset, valset = torch.utils.data.random_split(trainset, [int(len(trainset)*0.8), int(len(trainset)*0.2)])\n",
    "trainset = CIFAR10Rot(trainset)\n",
    "valset = CIFAR10Rot(valset)\n",
    "\n",
    "trainloader = torch.utils.data.DataLoader(trainset, batch_size=BATCH_SIZE, shuffle=True, num_workers=0)\n",
    "valloader = torch.utils.data.DataLoader(valset, batch_size=BATCH_SIZE, shuffle=False, num_workers=0)\n",
    "\n",
    "testset = CIFAR10Rot(torchvision.datasets.CIFAR10(root='./data', train=False, download=True, transform=test_transform))\n",
    "testloader = torch.utils.data.DataLoader(testset, batch_size=BATCH_SIZE, shuffle=False, num_workers=0)\n",
    "\n",
    "classes = ('plane', 'car', 'bird', 'cat', 'deer', 'dog', 'frog', 'horse', 'ship', 'truck')"
   ]
  },
  {
   "cell_type": "markdown",
   "id": "70be5a53",
   "metadata": {},
   "source": [
    "# loss"
   ]
  },
  {
   "cell_type": "code",
   "execution_count": 42,
   "id": "b1fa417a",
   "metadata": {},
   "outputs": [],
   "source": [
    "criterion = nn.CrossEntropyLoss()"
   ]
  },
  {
   "cell_type": "markdown",
   "id": "14ae9607",
   "metadata": {},
   "source": [
    "# loop"
   ]
  },
  {
   "cell_type": "code",
   "execution_count": null,
   "id": "5dcde133",
   "metadata": {},
   "outputs": [
    {
     "data": {
      "application/vnd.jupyter.widget-view+json": {
       "model_id": "2e68419ab3eb49408dbe27175f291210",
       "version_major": 2,
       "version_minor": 0
      },
      "text/plain": [
       "  0%|          | 0/1250 [00:00<?, ?it/s]"
      ]
     },
     "metadata": {},
     "output_type": "display_data"
    },
    {
     "data": {
      "application/vnd.jupyter.widget-view+json": {
       "model_id": "db490cebc0084ab38e179c57859d8949",
       "version_major": 2,
       "version_minor": 0
      },
      "text/plain": [
       "  0%|          | 0/313 [00:00<?, ?it/s]"
      ]
     },
     "metadata": {},
     "output_type": "display_data"
    },
    {
     "name": "stdout",
     "output_type": "stream",
     "text": [
      "Train Loss 1.019081711769104 Acc 0.56398125 ; Val Loss 0.9233811497688293 Acc 0.616075\n"
     ]
    },
    {
     "data": {
      "application/vnd.jupyter.widget-view+json": {
       "model_id": "26cee201303548009e0cef2cfdea501d",
       "version_major": 2,
       "version_minor": 0
      },
      "text/plain": [
       "  0%|          | 0/1250 [00:00<?, ?it/s]"
      ]
     },
     "metadata": {},
     "output_type": "display_data"
    },
    {
     "data": {
      "application/vnd.jupyter.widget-view+json": {
       "model_id": "932a29d2f83342779fa2cdb3ac1349dc",
       "version_major": 2,
       "version_minor": 0
      },
      "text/plain": [
       "  0%|          | 0/313 [00:00<?, ?it/s]"
      ]
     },
     "metadata": {},
     "output_type": "display_data"
    },
    {
     "name": "stdout",
     "output_type": "stream",
     "text": [
      "Train Loss 0.8653017282485962 Acc 0.6424 ; Val Loss 0.9000920653343201 Acc 0.6323\n"
     ]
    },
    {
     "data": {
      "application/vnd.jupyter.widget-view+json": {
       "model_id": "345ee3ad9df34cdd81065ef92202bdf3",
       "version_major": 2,
       "version_minor": 0
      },
      "text/plain": [
       "  0%|          | 0/1250 [00:00<?, ?it/s]"
      ]
     },
     "metadata": {},
     "output_type": "display_data"
    },
    {
     "data": {
      "application/vnd.jupyter.widget-view+json": {
       "model_id": "06840def62b44992968418f772f2b8f9",
       "version_major": 2,
       "version_minor": 0
      },
      "text/plain": [
       "  0%|          | 0/313 [00:00<?, ?it/s]"
      ]
     },
     "metadata": {},
     "output_type": "display_data"
    },
    {
     "name": "stdout",
     "output_type": "stream",
     "text": [
      "Train Loss 0.7955254912376404 Acc 0.67485 ; Val Loss 0.7955080270767212 Acc 0.6746\n"
     ]
    },
    {
     "data": {
      "application/vnd.jupyter.widget-view+json": {
       "model_id": "90d3ab2f892546b38c5677c21cb43327",
       "version_major": 2,
       "version_minor": 0
      },
      "text/plain": [
       "  0%|          | 0/1250 [00:00<?, ?it/s]"
      ]
     },
     "metadata": {},
     "output_type": "display_data"
    },
    {
     "data": {
      "application/vnd.jupyter.widget-view+json": {
       "model_id": "ce55ba06012b49009c53fc225b75f05b",
       "version_major": 2,
       "version_minor": 0
      },
      "text/plain": [
       "  0%|          | 0/313 [00:00<?, ?it/s]"
      ]
     },
     "metadata": {},
     "output_type": "display_data"
    },
    {
     "name": "stdout",
     "output_type": "stream",
     "text": [
      "Train Loss 0.7421718239784241 Acc 0.69943125 ; Val Loss 0.7497031688690186 Acc 0.69675\n"
     ]
    },
    {
     "data": {
      "application/vnd.jupyter.widget-view+json": {
       "model_id": "32df0c8f105947b48910689efd0e51ad",
       "version_major": 2,
       "version_minor": 0
      },
      "text/plain": [
       "  0%|          | 0/1250 [00:00<?, ?it/s]"
      ]
     },
     "metadata": {},
     "output_type": "display_data"
    },
    {
     "data": {
      "application/vnd.jupyter.widget-view+json": {
       "model_id": "8cee50e6ebac4adda7ba4aa7a1ae5e45",
       "version_major": 2,
       "version_minor": 0
      },
      "text/plain": [
       "  0%|          | 0/313 [00:00<?, ?it/s]"
      ]
     },
     "metadata": {},
     "output_type": "display_data"
    },
    {
     "name": "stdout",
     "output_type": "stream",
     "text": [
      "Train Loss 0.6983997821807861 Acc 0.71959375 ; Val Loss 0.7250745892524719 Acc 0.707775\n"
     ]
    },
    {
     "data": {
      "application/vnd.jupyter.widget-view+json": {
       "model_id": "f55366c694c74832af2f888985bcd62a",
       "version_major": 2,
       "version_minor": 0
      },
      "text/plain": [
       "  0%|          | 0/1250 [00:00<?, ?it/s]"
      ]
     },
     "metadata": {},
     "output_type": "display_data"
    },
    {
     "data": {
      "application/vnd.jupyter.widget-view+json": {
       "model_id": "5b44e7d4c0634b5e98462fbcf19a9392",
       "version_major": 2,
       "version_minor": 0
      },
      "text/plain": [
       "  0%|          | 0/313 [00:00<?, ?it/s]"
      ]
     },
     "metadata": {},
     "output_type": "display_data"
    },
    {
     "name": "stdout",
     "output_type": "stream",
     "text": [
      "Train Loss 0.6590319871902466 Acc 0.73735625 ; Val Loss 0.7111856937408447 Acc 0.715425\n"
     ]
    },
    {
     "data": {
      "application/vnd.jupyter.widget-view+json": {
       "model_id": "c9bec09472eb4cc0a57e5193f3e1f02f",
       "version_major": 2,
       "version_minor": 0
      },
      "text/plain": [
       "  0%|          | 0/1250 [00:00<?, ?it/s]"
      ]
     },
     "metadata": {},
     "output_type": "display_data"
    },
    {
     "data": {
      "application/vnd.jupyter.widget-view+json": {
       "model_id": "4ed23ee42cc548d7aee4b100c1d55a75",
       "version_major": 2,
       "version_minor": 0
      },
      "text/plain": [
       "  0%|          | 0/313 [00:00<?, ?it/s]"
      ]
     },
     "metadata": {},
     "output_type": "display_data"
    },
    {
     "name": "stdout",
     "output_type": "stream",
     "text": [
      "Train Loss 0.6210445761680603 Acc 0.75461875 ; Val Loss 0.6831956505775452 Acc 0.72725\n"
     ]
    },
    {
     "data": {
      "application/vnd.jupyter.widget-view+json": {
       "model_id": "fe7f8ab304cc44ae927dcd4539b5b795",
       "version_major": 2,
       "version_minor": 0
      },
      "text/plain": [
       "  0%|          | 0/1250 [00:00<?, ?it/s]"
      ]
     },
     "metadata": {},
     "output_type": "display_data"
    },
    {
     "data": {
      "application/vnd.jupyter.widget-view+json": {
       "model_id": "0909da4f18ea493d86751eee2de51a5a",
       "version_major": 2,
       "version_minor": 0
      },
      "text/plain": [
       "  0%|          | 0/313 [00:00<?, ?it/s]"
      ]
     },
     "metadata": {},
     "output_type": "display_data"
    },
    {
     "name": "stdout",
     "output_type": "stream",
     "text": [
      "Train Loss 0.5898740291595459 Acc 0.76814375 ; Val Loss 0.6989306211471558 Acc 0.7232\n"
     ]
    },
    {
     "data": {
      "application/vnd.jupyter.widget-view+json": {
       "model_id": "9774e519acca49d891f797033d236898",
       "version_major": 2,
       "version_minor": 0
      },
      "text/plain": [
       "  0%|          | 0/1250 [00:00<?, ?it/s]"
      ]
     },
     "metadata": {},
     "output_type": "display_data"
    },
    {
     "data": {
      "application/vnd.jupyter.widget-view+json": {
       "model_id": "a619a4067713468fbca59ae323f0b17f",
       "version_major": 2,
       "version_minor": 0
      },
      "text/plain": [
       "  0%|          | 0/313 [00:00<?, ?it/s]"
      ]
     },
     "metadata": {},
     "output_type": "display_data"
    },
    {
     "name": "stdout",
     "output_type": "stream",
     "text": [
      "Train Loss 0.5614681243896484 Acc 0.7806125 ; Val Loss 0.667412281036377 Acc 0.73935\n"
     ]
    },
    {
     "data": {
      "application/vnd.jupyter.widget-view+json": {
       "model_id": "17e626c81e614344a8aeccad52d42252",
       "version_major": 2,
       "version_minor": 0
      },
      "text/plain": [
       "  0%|          | 0/1250 [00:00<?, ?it/s]"
      ]
     },
     "metadata": {},
     "output_type": "display_data"
    },
    {
     "data": {
      "application/vnd.jupyter.widget-view+json": {
       "model_id": "1a232058a99b416ab16add76a3734bba",
       "version_major": 2,
       "version_minor": 0
      },
      "text/plain": [
       "  0%|          | 0/313 [00:00<?, ?it/s]"
      ]
     },
     "metadata": {},
     "output_type": "display_data"
    },
    {
     "name": "stdout",
     "output_type": "stream",
     "text": [
      "Train Loss 0.5329116582870483 Acc 0.79293125 ; Val Loss 0.6851778030395508 Acc 0.731275\n"
     ]
    },
    {
     "data": {
      "application/vnd.jupyter.widget-view+json": {
       "model_id": "3e8820d4ede345669f6bc48c40a45b30",
       "version_major": 2,
       "version_minor": 0
      },
      "text/plain": [
       "  0%|          | 0/1250 [00:00<?, ?it/s]"
      ]
     },
     "metadata": {},
     "output_type": "display_data"
    },
    {
     "data": {
      "application/vnd.jupyter.widget-view+json": {
       "model_id": "871ccd3021484291af458367aaaab90d",
       "version_major": 2,
       "version_minor": 0
      },
      "text/plain": [
       "  0%|          | 0/313 [00:00<?, ?it/s]"
      ]
     },
     "metadata": {},
     "output_type": "display_data"
    },
    {
     "name": "stdout",
     "output_type": "stream",
     "text": [
      "Train Loss 0.5056622624397278 Acc 0.8047 ; Val Loss 0.7098149061203003 Acc 0.72765\n"
     ]
    },
    {
     "data": {
      "application/vnd.jupyter.widget-view+json": {
       "model_id": "cc01edd894f3497ab8ea019ee397a54c",
       "version_major": 2,
       "version_minor": 0
      },
      "text/plain": [
       "  0%|          | 0/1250 [00:00<?, ?it/s]"
      ]
     },
     "metadata": {},
     "output_type": "display_data"
    },
    {
     "data": {
      "application/vnd.jupyter.widget-view+json": {
       "model_id": "c4770ab327d7430981cacb7075802697",
       "version_major": 2,
       "version_minor": 0
      },
      "text/plain": [
       "  0%|          | 0/313 [00:00<?, ?it/s]"
      ]
     },
     "metadata": {},
     "output_type": "display_data"
    },
    {
     "name": "stdout",
     "output_type": "stream",
     "text": [
      "Train Loss 0.48000267148017883 Acc 0.8156375 ; Val Loss 0.6802400946617126 Acc 0.739225\n"
     ]
    },
    {
     "data": {
      "application/vnd.jupyter.widget-view+json": {
       "model_id": "273d03d4861348ef94ef8a6a7e23a4b0",
       "version_major": 2,
       "version_minor": 0
      },
      "text/plain": [
       "  0%|          | 0/1250 [00:00<?, ?it/s]"
      ]
     },
     "metadata": {},
     "output_type": "display_data"
    },
    {
     "data": {
      "application/vnd.jupyter.widget-view+json": {
       "model_id": "6011d605efa04b109f9950f5269018a2",
       "version_major": 2,
       "version_minor": 0
      },
      "text/plain": [
       "  0%|          | 0/313 [00:00<?, ?it/s]"
      ]
     },
     "metadata": {},
     "output_type": "display_data"
    },
    {
     "name": "stdout",
     "output_type": "stream",
     "text": [
      "Train Loss 0.4549916982650757 Acc 0.8257 ; Val Loss 0.7284902334213257 Acc 0.7303\n"
     ]
    },
    {
     "data": {
      "application/vnd.jupyter.widget-view+json": {
       "model_id": "04303e00fc39455a99ebb5edb44a97c8",
       "version_major": 2,
       "version_minor": 0
      },
      "text/plain": [
       "  0%|          | 0/1250 [00:00<?, ?it/s]"
      ]
     },
     "metadata": {},
     "output_type": "display_data"
    },
    {
     "data": {
      "application/vnd.jupyter.widget-view+json": {
       "model_id": "5e1ccefd354e4cc98060808352fe0f47",
       "version_major": 2,
       "version_minor": 0
      },
      "text/plain": [
       "  0%|          | 0/313 [00:00<?, ?it/s]"
      ]
     },
     "metadata": {},
     "output_type": "display_data"
    },
    {
     "name": "stdout",
     "output_type": "stream",
     "text": [
      "Train Loss 0.42969080805778503 Acc 0.83525625 ; Val Loss 0.7409656643867493 Acc 0.725175\n"
     ]
    },
    {
     "data": {
      "application/vnd.jupyter.widget-view+json": {
       "model_id": "fca7107c75154bda80b95241d705ee89",
       "version_major": 2,
       "version_minor": 0
      },
      "text/plain": [
       "  0%|          | 0/1250 [00:00<?, ?it/s]"
      ]
     },
     "metadata": {},
     "output_type": "display_data"
    },
    {
     "data": {
      "application/vnd.jupyter.widget-view+json": {
       "model_id": "4816e529e931466eacabb5857b1448ae",
       "version_major": 2,
       "version_minor": 0
      },
      "text/plain": [
       "  0%|          | 0/313 [00:00<?, ?it/s]"
      ]
     },
     "metadata": {},
     "output_type": "display_data"
    },
    {
     "name": "stdout",
     "output_type": "stream",
     "text": [
      "Train Loss 0.40768712759017944 Acc 0.8457 ; Val Loss 0.7327340245246887 Acc 0.74015\n"
     ]
    },
    {
     "data": {
      "application/vnd.jupyter.widget-view+json": {
       "model_id": "504cdf3abfb041838e0cd13f2b0f5295",
       "version_major": 2,
       "version_minor": 0
      },
      "text/plain": [
       "  0%|          | 0/1250 [00:00<?, ?it/s]"
      ]
     },
     "metadata": {},
     "output_type": "display_data"
    },
    {
     "data": {
      "application/vnd.jupyter.widget-view+json": {
       "model_id": "027723f452244cce9d8f4575419650ad",
       "version_major": 2,
       "version_minor": 0
      },
      "text/plain": [
       "  0%|          | 0/313 [00:00<?, ?it/s]"
      ]
     },
     "metadata": {},
     "output_type": "display_data"
    },
    {
     "name": "stdout",
     "output_type": "stream",
     "text": [
      "Train Loss 0.3852309584617615 Acc 0.85438125 ; Val Loss 0.9040912389755249 Acc 0.699775\n"
     ]
    },
    {
     "data": {
      "application/vnd.jupyter.widget-view+json": {
       "model_id": "48936470a73842049a5fd62420c43aa4",
       "version_major": 2,
       "version_minor": 0
      },
      "text/plain": [
       "  0%|          | 0/1250 [00:00<?, ?it/s]"
      ]
     },
     "metadata": {},
     "output_type": "display_data"
    },
    {
     "data": {
      "application/vnd.jupyter.widget-view+json": {
       "model_id": "0010c886f3634c9cb85e4d0ac07014e7",
       "version_major": 2,
       "version_minor": 0
      },
      "text/plain": [
       "  0%|          | 0/313 [00:00<?, ?it/s]"
      ]
     },
     "metadata": {},
     "output_type": "display_data"
    },
    {
     "name": "stdout",
     "output_type": "stream",
     "text": [
      "Train Loss 0.36184826493263245 Acc 0.86385625 ; Val Loss 0.7617225050926208 Acc 0.729825\n"
     ]
    },
    {
     "data": {
      "application/vnd.jupyter.widget-view+json": {
       "model_id": "19d735805d414d9f8c81a335dee160c5",
       "version_major": 2,
       "version_minor": 0
      },
      "text/plain": [
       "  0%|          | 0/1250 [00:00<?, ?it/s]"
      ]
     },
     "metadata": {},
     "output_type": "display_data"
    },
    {
     "data": {
      "application/vnd.jupyter.widget-view+json": {
       "model_id": "8bd193ff8f154c6bb30ae1a56d786da0",
       "version_major": 2,
       "version_minor": 0
      },
      "text/plain": [
       "  0%|          | 0/313 [00:00<?, ?it/s]"
      ]
     },
     "metadata": {},
     "output_type": "display_data"
    },
    {
     "name": "stdout",
     "output_type": "stream",
     "text": [
      "Train Loss 0.34049397706985474 Acc 0.871575 ; Val Loss 0.9039665460586548 Acc 0.711275\n"
     ]
    },
    {
     "data": {
      "application/vnd.jupyter.widget-view+json": {
       "model_id": "b664c4d9b7094a448dc3b99cdf848154",
       "version_major": 2,
       "version_minor": 0
      },
      "text/plain": [
       "  0%|          | 0/1250 [00:00<?, ?it/s]"
      ]
     },
     "metadata": {},
     "output_type": "display_data"
    },
    {
     "data": {
      "application/vnd.jupyter.widget-view+json": {
       "model_id": "d0856e17f1a4456da50694e9da7e00f3",
       "version_major": 2,
       "version_minor": 0
      },
      "text/plain": [
       "  0%|          | 0/313 [00:00<?, ?it/s]"
      ]
     },
     "metadata": {},
     "output_type": "display_data"
    },
    {
     "name": "stdout",
     "output_type": "stream",
     "text": [
      "Train Loss 0.3232710361480713 Acc 0.87794375 ; Val Loss 0.7934513092041016 Acc 0.736325\n"
     ]
    },
    {
     "data": {
      "application/vnd.jupyter.widget-view+json": {
       "model_id": "2ef39897cf0746ea916cb54004a231aa",
       "version_major": 2,
       "version_minor": 0
      },
      "text/plain": [
       "  0%|          | 0/1250 [00:00<?, ?it/s]"
      ]
     },
     "metadata": {},
     "output_type": "display_data"
    }
   ],
   "source": [
    "rot_model = RotNet().cuda()\n",
    "optimizer = torch.optim.Adam(rot_model.parameters(), lr=LR)\n",
    "\n",
    "best_loss = 9999999\n",
    "\n",
    "for epoch_idx in range(EPOCHS):\n",
    "    epoch_losses = 0\n",
    "    epoch_correts = 0\n",
    "    rot_model.train()\n",
    "    for batch_idx, data in enumerate(tqdm(trainloader)):\n",
    "        image, label = data\n",
    "        image = image.cuda()\n",
    "        label = label.cuda()\n",
    "        \n",
    "        rot_model.zero_grad()\n",
    "        out = rot_model(image)\n",
    "        \n",
    "        loss = criterion(out, label)\n",
    "        loss.backward()\n",
    "        optimizer.step()\n",
    "\n",
    "        epoch_losses += loss\n",
    "    \n",
    "        pred = torch.argmax(out, dim=1)\n",
    "        epoch_correts += torch.sum(pred == label).item()\n",
    "    \n",
    "    epoch_losses /= len(trainloader)\n",
    "    epoch_correts /= len(trainset)\n",
    "        \n",
    "    \n",
    "    with torch.no_grad():\n",
    "        rot_model.eval()\n",
    "        \n",
    "        val_epoch_losses = 0\n",
    "        val_epoch_correts = 0\n",
    "\n",
    "        for batch_idx, data in enumerate(tqdm(valloader)):\n",
    "            image, label = data\n",
    "            image = image.cuda()\n",
    "            label = label.cuda()\n",
    "\n",
    "            out = rot_model(image)\n",
    "\n",
    "            loss = criterion(out, label)\n",
    "\n",
    "            val_epoch_losses += loss\n",
    "\n",
    "            pred = torch.argmax(out, dim=1)\n",
    "            val_epoch_correts += torch.sum(pred == label).item()\n",
    "\n",
    "        val_epoch_losses /= len(valloader)\n",
    "        val_epoch_correts /= len(valset)\n",
    "\n",
    "        if val_epoch_losses < best_loss:\n",
    "            best_loss = val_epoch_losses\n",
    "            torch.save(rot_model.state_dict(), f'models/rotnet_base_{EPOCHS}_{BATCH_SIZE}_{LR}.pth')\n",
    "    \n",
    "    print(f'Train Loss {epoch_losses} Acc {epoch_correts} ; Val Loss {val_epoch_losses} Acc {val_epoch_correts}')"
   ]
  },
  {
   "cell_type": "code",
   "execution_count": null,
   "id": "9797f66d",
   "metadata": {},
   "outputs": [],
   "source": []
  }
 ],
 "metadata": {
  "kernelspec": {
   "display_name": "Python 3",
   "language": "python",
   "name": "python3"
  },
  "language_info": {
   "codemirror_mode": {
    "name": "ipython",
    "version": 3
   },
   "file_extension": ".py",
   "mimetype": "text/x-python",
   "name": "python",
   "nbconvert_exporter": "python",
   "pygments_lexer": "ipython3",
   "version": "3.6.13"
  }
 },
 "nbformat": 4,
 "nbformat_minor": 5
}
